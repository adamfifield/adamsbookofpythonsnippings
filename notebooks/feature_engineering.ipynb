{
 "cells": [
  {
   "cell_type": "markdown",
   "id": "4ac1ed98",
   "metadata": {},
   "source": [
    "\n",
    "# 🛠️ Feature Engineering & Selection\n",
    "\n",
    "This notebook provides **code templates and checklists** for **creating, transforming, and selecting features** to improve machine learning models.\n",
    "\n",
    "### 🔹 What’s Covered:\n",
    "- Creating new features (interaction terms, binning, encoding)\n",
    "- Handling categorical features\n",
    "- Feature scaling & normalization\n",
    "- Feature selection techniques (filter, wrapper, embedded methods)\n"
   ]
  },
  {
   "cell_type": "code",
   "execution_count": null,
   "id": "3673a251",
   "metadata": {},
   "outputs": [],
   "source": [
    "\n",
    "# Ensure required libraries are installed (Uncomment if necessary)\n",
    "# !pip install pandas numpy sklearn\n"
   ]
  },
  {
   "cell_type": "markdown",
   "id": "4aa192cd",
   "metadata": {},
   "source": [
    "\n",
    "## 🔨 Creating New Features\n",
    "\n",
    "✅ Combine existing features to create interaction terms.  \n",
    "✅ Use **binning** to convert numerical features into categories.  \n",
    "✅ Extract useful information from timestamps (year, month, weekday).  \n"
   ]
  },
  {
   "cell_type": "code",
   "execution_count": null,
   "id": "0a18a694",
   "metadata": {},
   "outputs": [],
   "source": [
    "\n",
    "import pandas as pd\n",
    "import numpy as np\n",
    "\n",
    "# Sample dataset\n",
    "df = pd.DataFrame({\n",
    "    'age': [22, 35, 46, 57, 28],\n",
    "    'salary': [50000, 70000, 90000, 120000, 65000],\n",
    "    'signup_date': pd.to_datetime([\"2021-01-15\", \"2020-06-23\", \"2019-11-12\", \"2022-03-01\", \"2021-09-30\"])\n",
    "})\n",
    "\n",
    "# Create interaction term (e.g., age * salary)\n",
    "df['age_salary_interaction'] = df['age'] * df['salary']\n",
    "\n",
    "# Create bins for age groups\n",
    "df['age_group'] = pd.cut(df['age'], bins=[20, 30, 40, 50, 60], labels=[\"20s\", \"30s\", \"40s\", \"50s\"])\n",
    "\n",
    "# Extract year and month from signup date\n",
    "df['signup_year'] = df['signup_date'].dt.year\n",
    "df['signup_month'] = df['signup_date'].dt.month\n",
    "\n",
    "print(df.head())\n"
   ]
  },
  {
   "cell_type": "markdown",
   "id": "8c3d7fad",
   "metadata": {},
   "source": [
    "\n",
    "## 🔤 Encoding Categorical Variables\n",
    "\n",
    "✅ Convert categorical features into numerical representations.  \n",
    "✅ Use **One-Hot Encoding** for non-ordinal categories.  \n",
    "✅ Use **Label Encoding** for ordinal categories.  \n"
   ]
  },
  {
   "cell_type": "code",
   "execution_count": null,
   "id": "98fa8648",
   "metadata": {},
   "outputs": [],
   "source": [
    "\n",
    "from sklearn.preprocessing import OneHotEncoder, LabelEncoder\n",
    "\n",
    "# One-Hot Encoding\n",
    "df_encoded = pd.get_dummies(df, columns=['age_group'], drop_first=True)\n",
    "\n",
    "# Label Encoding (Example for ordinal categories)\n",
    "le = LabelEncoder()\n",
    "df['encoded_age_group'] = le.fit_transform(df['age_group'])\n",
    "\n",
    "print(df_encoded.head())\n"
   ]
  },
  {
   "cell_type": "markdown",
   "id": "496f7d0e",
   "metadata": {},
   "source": [
    "\n",
    "## 📏 Feature Scaling & Normalization\n",
    "\n",
    "✅ Normalize numerical features to ensure comparability.  \n",
    "✅ Use **Min-Max Scaling** (0-1 range) or **Standardization** (Z-score).  \n"
   ]
  },
  {
   "cell_type": "code",
   "execution_count": null,
   "id": "c7edf520",
   "metadata": {},
   "outputs": [],
   "source": [
    "\n",
    "from sklearn.preprocessing import MinMaxScaler, StandardScaler\n",
    "\n",
    "# Min-Max Scaling\n",
    "scaler = MinMaxScaler()\n",
    "df[['salary_scaled']] = scaler.fit_transform(df[['salary']])\n",
    "\n",
    "# Standardization (Z-score normalization)\n",
    "scaler = StandardScaler()\n",
    "df[['salary_standardized']] = scaler.fit_transform(df[['salary']])\n",
    "\n",
    "print(df.head())\n"
   ]
  },
  {
   "cell_type": "markdown",
   "id": "38f67abb",
   "metadata": {},
   "source": [
    "\n",
    "## 🏆 Feature Selection\n",
    "\n",
    "✅ Use **Filter Methods** (e.g., correlation, mutual information).  \n",
    "✅ Use **Wrapper Methods** (e.g., recursive feature elimination).  \n",
    "✅ Use **Embedded Methods** (e.g., Lasso Regression, Decision Trees).  \n"
   ]
  },
  {
   "cell_type": "code",
   "execution_count": null,
   "id": "18af8d35",
   "metadata": {},
   "outputs": [],
   "source": [
    "\n",
    "from sklearn.feature_selection import SelectKBest, f_regression, RFE\n",
    "from sklearn.linear_model import LinearRegression\n",
    "\n",
    "# Filter Method (Select top k features based on correlation)\n",
    "selector = SelectKBest(score_func=f_regression, k=2)\n",
    "X_new = selector.fit_transform(df[['age', 'salary', 'signup_year']], df['salary'])\n",
    "print(\"Selected Features:\", selector.get_support())\n",
    "\n",
    "# Wrapper Method (Recursive Feature Elimination - RFE)\n",
    "model = LinearRegression()\n",
    "rfe = RFE(model, n_features_to_select=2)\n",
    "X_rfe = rfe.fit_transform(df[['age', 'salary', 'signup_year']], df['salary'])\n",
    "print(\"RFE Selected Features:\", rfe.support_)\n"
   ]
  },
  {
   "cell_type": "markdown",
   "id": "0b7b8339",
   "metadata": {},
   "source": [
    "\n",
    "## ✅ Best Practices & Common Pitfalls\n",
    "\n",
    "- **Avoid data leakage**: Feature transformations should be applied **only on training data**.  \n",
    "- **Don't over-engineer**: More features aren’t always better—test their impact.  \n",
    "- **Check feature importance**: Some transformations may not help and could add noise.  \n",
    "- **Normalize before training**: Some ML models are sensitive to feature scales.  \n"
   ]
  }
 ],
 "metadata": {},
 "nbformat": 4,
 "nbformat_minor": 5
}
