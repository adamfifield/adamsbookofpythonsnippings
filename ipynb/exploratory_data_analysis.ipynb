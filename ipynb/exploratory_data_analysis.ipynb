{
 "cells": [
  {
   "cell_type": "markdown",
   "id": "be34b22f",
   "metadata": {},
   "source": [
    "\n",
    "# 📊 Exploratory Data Analysis (EDA)\n",
    "\n",
    "This notebook provides **code templates and checklists** for performing **EDA on datasets** to understand their structure, relationships, and potential issues.\n",
    "\n",
    "### 🔹 What’s Covered:\n",
    "- Dataset overview (shape, types, missing values)\n",
    "- Summary statistics\n",
    "- Data visualization (histograms, boxplots, scatter plots, correlation heatmaps)\n",
    "- Outlier detection & feature distributions\n"
   ]
  },
  {
   "cell_type": "code",
   "execution_count": null,
   "id": "1ae6602b",
   "metadata": {},
   "outputs": [],
   "source": [
    "\n",
    "# Ensure required libraries are installed (Uncomment if necessary)\n",
    "# !pip install pandas numpy matplotlib seaborn\n"
   ]
  },
  {
   "cell_type": "markdown",
   "id": "531e76d0",
   "metadata": {},
   "source": [
    "\n",
    "## 🏗️ Dataset Overview\n",
    "\n",
    "✅ Check the **shape** of the dataset.  \n",
    "✅ Inspect **data types** and detect incorrect types.  \n",
    "✅ Identify **missing values** and assess their impact.  \n"
   ]
  },
  {
   "cell_type": "code",
   "execution_count": null,
   "id": "8de90c7b",
   "metadata": {},
   "outputs": [],
   "source": [
    "\n",
    "import pandas as pd\n",
    "\n",
    "# Load dataset (replace with your actual file)\n",
    "df = pd.read_csv(\"your_dataset.csv\")\n",
    "\n",
    "# Display basic info\n",
    "print(\"Dataset Shape:\", df.shape)\n",
    "print(\"Column Data Types:\")\n",
    "print(df.dtypes)\n",
    "\n",
    "# Check for missing values\n",
    "print(\"Missing Values:\")\n",
    "print(df.isnull().sum())\n"
   ]
  },
  {
   "cell_type": "markdown",
   "id": "d31be5ba",
   "metadata": {},
   "source": [
    "\n",
    "## 📈 Summary Statistics\n",
    "\n",
    "✅ Check **mean, median, min, max, standard deviation**.  \n",
    "✅ Compare distributions across different features.  \n",
    "✅ Detect **skewness** and potential anomalies.  \n"
   ]
  },
  {
   "cell_type": "code",
   "execution_count": null,
   "id": "292e96a1",
   "metadata": {},
   "outputs": [],
   "source": [
    "\n",
    "# Summary statistics for numerical columns\n",
    "print(df.describe())\n",
    "\n",
    "# Summary statistics for categorical columns\n",
    "print(df.describe(include=['object']))\n"
   ]
  },
  {
   "cell_type": "markdown",
   "id": "3c00c7e4",
   "metadata": {},
   "source": [
    "\n",
    "## 📊 Univariate Analysis (Single Variable)\n",
    "\n",
    "✅ Use **histograms** to check data distributions.  \n",
    "✅ Use **boxplots** to detect outliers.  \n",
    "✅ Use **count plots** for categorical features.  \n"
   ]
  },
  {
   "cell_type": "code",
   "execution_count": null,
   "id": "5c61f1a7",
   "metadata": {},
   "outputs": [],
   "source": [
    "\n",
    "import matplotlib.pyplot as plt\n",
    "import seaborn as sns\n",
    "\n",
    "# Histogram for a numerical column\n",
    "plt.hist(df[\"numeric_column\"], bins=30, edgecolor=\"black\")\n",
    "plt.xlabel(\"Value\")\n",
    "plt.ylabel(\"Frequency\")\n",
    "plt.title(\"Histogram of Numeric Column\")\n",
    "plt.show()\n",
    "\n",
    "# Boxplot for detecting outliers\n",
    "sns.boxplot(x=df[\"numeric_column\"])\n",
    "plt.title(\"Boxplot of Numeric Column\")\n",
    "plt.show()\n"
   ]
  },
  {
   "cell_type": "markdown",
   "id": "16e6c793",
   "metadata": {},
   "source": [
    "\n",
    "## 🔍 Multivariate Analysis (Relationships Between Variables)\n",
    "\n",
    "✅ Use **scatter plots** to check relationships.  \n",
    "✅ Use **correlation heatmaps** to detect feature correlations.  \n",
    "✅ Use **pair plots** for a broader perspective.  \n"
   ]
  },
  {
   "cell_type": "code",
   "execution_count": null,
   "id": "7d149144",
   "metadata": {},
   "outputs": [],
   "source": [
    "\n",
    "# Scatter plot for two numerical variables\n",
    "plt.scatter(df[\"column_x\"], df[\"column_y\"], alpha=0.5)\n",
    "plt.xlabel(\"Column X\")\n",
    "plt.ylabel(\"Column Y\")\n",
    "plt.title(\"Scatter Plot of Column X vs Column Y\")\n",
    "plt.show()\n",
    "\n",
    "# Correlation heatmap\n",
    "plt.figure(figsize=(8,6))\n",
    "sns.heatmap(df.corr(), annot=True, cmap=\"coolwarm\", fmt=\".2f\")\n",
    "plt.title(\"Correlation Heatmap\")\n",
    "plt.show()\n"
   ]
  },
  {
   "cell_type": "markdown",
   "id": "e3d40bec",
   "metadata": {},
   "source": [
    "\n",
    "## 🚨 Outlier Detection\n",
    "\n",
    "✅ Use the **interquartile range (IQR) method** to detect outliers.  \n",
    "✅ Consider **log transformation** for highly skewed data.  \n",
    "✅ Use **clipping** if outliers are extreme but valid.  \n"
   ]
  },
  {
   "cell_type": "code",
   "execution_count": null,
   "id": "0a20b5b4",
   "metadata": {},
   "outputs": [],
   "source": [
    "\n",
    "# Detecting outliers using IQR\n",
    "Q1 = df[\"numeric_column\"].quantile(0.25)\n",
    "Q3 = df[\"numeric_column\"].quantile(0.75)\n",
    "IQR = Q3 - Q1\n",
    "\n",
    "# Define outlier bounds\n",
    "lower_bound = Q1 - 1.5 * IQR\n",
    "upper_bound = Q3 + 1.5 * IQR\n",
    "\n",
    "# Identify outliers\n",
    "outliers = df[(df[\"numeric_column\"] < lower_bound) | (df[\"numeric_column\"] > upper_bound)]\n",
    "print(outliers)\n"
   ]
  },
  {
   "cell_type": "markdown",
   "id": "16c74e7a",
   "metadata": {},
   "source": [
    "\n",
    "## ✅ Best Practices & Common Pitfalls\n",
    "\n",
    "- **Understand the data first**: Don't apply transformations blindly.  \n",
    "- **Visualize distributions**: Summary statistics alone may miss key patterns.  \n",
    "- **Beware of data leakage**: Don't use information from the test set in EDA.  \n",
    "- **Handle missing values carefully**: Different strategies work for different datasets.  \n"
   ]
  }
 ],
 "metadata": {},
 "nbformat": 4,
 "nbformat_minor": 5
}
