{
 "cells": [
  {
   "cell_type": "markdown",
   "id": "3371263a",
   "metadata": {},
   "source": [
    "\n",
    "# 🛠️ Data Wrangling\n",
    "\n",
    "This notebook provides **code templates and checklists** for **cleaning, transforming, and preparing data** for analysis or machine learning.\n",
    "\n",
    "### 🔹 What’s Covered:\n",
    "- Handling missing values\n",
    "- Removing duplicates\n",
    "- Transforming and reshaping data\n",
    "- Handling outliers\n",
    "- Ensuring data consistency\n"
   ]
  },
  {
   "cell_type": "code",
   "execution_count": null,
   "id": "f96dec3b",
   "metadata": {},
   "outputs": [],
   "source": [
    "\n",
    "# Ensure required libraries are installed (Uncomment if necessary)\n",
    "# !pip install pandas numpy\n"
   ]
  },
  {
   "cell_type": "markdown",
   "id": "d7c68f5f",
   "metadata": {},
   "source": [
    "\n",
    "## 🚫 Handling Missing Values\n",
    "\n",
    "✅ Identify missing values in a dataset.  \n",
    "✅ Decide whether to **drop** or **fill** missing values.  \n",
    "✅ Use appropriate strategies (mean, median, forward fill, etc.).  \n"
   ]
  },
  {
   "cell_type": "code",
   "execution_count": null,
   "id": "6571eb75",
   "metadata": {},
   "outputs": [],
   "source": [
    "\n",
    "import pandas as pd\n",
    "import numpy as np\n",
    "\n",
    "# Sample dataset with missing values\n",
    "df = pd.DataFrame({\n",
    "    'A': [1, 2, np.nan, 4, 5],\n",
    "    'B': [3, np.nan, np.nan, 8, 10],\n",
    "    'C': ['a', 'b', 'c', None, 'e']\n",
    "})\n",
    "\n",
    "# Check for missing values\n",
    "print(df.isnull().sum())\n",
    "\n",
    "# Fill missing values (Example: Fill numeric columns with mean)\n",
    "df['A'].fillna(df['A'].mean(), inplace=True)\n",
    "\n",
    "# Drop rows where all values are missing\n",
    "df.dropna(how='all', inplace=True)\n",
    "\n",
    "print(df)\n"
   ]
  },
  {
   "cell_type": "markdown",
   "id": "ca5ed54e",
   "metadata": {},
   "source": [
    "\n",
    "## 🗑️ Removing Duplicates\n",
    "\n",
    "✅ Identify duplicate rows.  \n",
    "✅ Decide whether to keep the **first**, **last**, or remove **all** duplicates.  \n",
    "✅ Use domain knowledge to determine which columns should be unique.  \n"
   ]
  },
  {
   "cell_type": "code",
   "execution_count": null,
   "id": "48c5ec08",
   "metadata": {},
   "outputs": [],
   "source": [
    "\n",
    "# Create sample dataset with duplicates\n",
    "df = pd.DataFrame({\n",
    "    'ID': [1, 2, 2, 3, 4, 4],\n",
    "    'Value': [100, 200, 200, 300, 400, 400]\n",
    "})\n",
    "\n",
    "# Identify duplicate rows\n",
    "print(df.duplicated())\n",
    "\n",
    "# Remove duplicate rows (keeping the first occurrence)\n",
    "df.drop_duplicates(inplace=True)\n",
    "\n",
    "print(df)\n"
   ]
  },
  {
   "cell_type": "markdown",
   "id": "5feee16a",
   "metadata": {},
   "source": [
    "\n",
    "## 🔄 Transforming & Reshaping Data\n",
    "\n",
    "✅ Convert data types where necessary (e.g., `object` to `datetime`).  \n",
    "✅ Reshape data using **pivot tables** or **melt** functions.  \n",
    "✅ Normalize text values (lowercasing, trimming spaces).  \n"
   ]
  },
  {
   "cell_type": "code",
   "execution_count": null,
   "id": "b665a250",
   "metadata": {},
   "outputs": [],
   "source": [
    "\n",
    "# Convert a string column to datetime format\n",
    "df['Date'] = pd.to_datetime(df['Date'], errors='coerce')\n",
    "\n",
    "# Reshape data using pivot tables\n",
    "pivot_df = df.pivot_table(index='Category', values='Sales', aggfunc='sum')\n",
    "\n",
    "# Normalize text values\n",
    "df['Category'] = df['Category'].str.lower().str.strip()\n",
    "\n",
    "print(pivot_df.head())\n"
   ]
  },
  {
   "cell_type": "markdown",
   "id": "bff74f56",
   "metadata": {},
   "source": [
    "\n",
    "## 🚨 Handling Outliers\n",
    "\n",
    "✅ Use the **interquartile range (IQR) method** to detect outliers.  \n",
    "✅ Remove or transform extreme values.  \n",
    "✅ Consider **log transformation** or **clipping**.  \n"
   ]
  },
  {
   "cell_type": "code",
   "execution_count": null,
   "id": "dfc57d27",
   "metadata": {},
   "outputs": [],
   "source": [
    "\n",
    "# Example: Detecting outliers using IQR\n",
    "Q1 = df['Value'].quantile(0.25)\n",
    "Q3 = df['Value'].quantile(0.75)\n",
    "IQR = Q3 - Q1\n",
    "\n",
    "# Define lower and upper bounds for outliers\n",
    "lower_bound = Q1 - 1.5 * IQR\n",
    "upper_bound = Q3 + 1.5 * IQR\n",
    "\n",
    "# Remove outliers\n",
    "df = df[(df['Value'] >= lower_bound) & (df['Value'] <= upper_bound)]\n",
    "print(df)\n"
   ]
  },
  {
   "cell_type": "markdown",
   "id": "80e82fbc",
   "metadata": {},
   "source": [
    "\n",
    "## ✅ Best Practices & Common Pitfalls\n",
    "\n",
    "- **Check for missing values before modeling**: Models often don’t handle NaNs well.  \n",
    "- **Drop columns wisely**: Don't remove features without understanding their importance.  \n",
    "- **Watch for data leakage**: Ensure transformations use only training data during ML preprocessing.  \n",
    "- **Keep a backup**: Never modify raw data directly—always create a copy before transformation.  \n"
   ]
  }
 ],
 "metadata": {},
 "nbformat": 4,
 "nbformat_minor": 5
}
