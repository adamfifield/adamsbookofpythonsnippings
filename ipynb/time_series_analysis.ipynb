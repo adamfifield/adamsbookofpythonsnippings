{
 "cells": [
  {
   "cell_type": "markdown",
   "id": "2dd2a181",
   "metadata": {},
   "source": [
    "\n",
    "# ⏳ Time Series Data Preparation & Analysis\n",
    "\n",
    "This notebook provides **code templates and checklists** for **preparing and analyzing time series data**.\n",
    "\n",
    "### 🔹 What’s Covered:\n",
    "- Handling datetime features\n",
    "- Checking stationarity & trend analysis\n",
    "- Feature engineering for time series\n",
    "- Forecasting with simple models\n"
   ]
  },
  {
   "cell_type": "code",
   "execution_count": null,
   "id": "2f2b76f8",
   "metadata": {},
   "outputs": [],
   "source": [
    "\n",
    "# Ensure required libraries are installed (Uncomment if necessary)\n",
    "# !pip install pandas numpy matplotlib statsmodels\n"
   ]
  },
  {
   "cell_type": "markdown",
   "id": "9bb9da63",
   "metadata": {},
   "source": [
    "\n",
    "## 📆 Handling Datetime Features\n",
    "\n",
    "✅ Convert timestamps to a proper datetime format.  \n",
    "✅ Extract **year, month, day, weekday, hour** features.  \n",
    "✅ Handle **time zone conversions** if necessary.  \n"
   ]
  },
  {
   "cell_type": "code",
   "execution_count": null,
   "id": "3af469a5",
   "metadata": {},
   "outputs": [],
   "source": [
    "\n",
    "import pandas as pd\n",
    "\n",
    "# Sample dataset with timestamps\n",
    "df = pd.DataFrame({\n",
    "    'timestamp': [\"2023-01-01 12:00:00\", \"2023-02-15 15:30:00\", \"2023-03-20 18:45:00\"]\n",
    "})\n",
    "\n",
    "# Convert to datetime format\n",
    "df['timestamp'] = pd.to_datetime(df['timestamp'])\n",
    "\n",
    "# Extract useful features\n",
    "df['year'] = df['timestamp'].dt.year\n",
    "df['month'] = df['timestamp'].dt.month\n",
    "df['day'] = df['timestamp'].dt.day\n",
    "df['weekday'] = df['timestamp'].dt.weekday\n",
    "df['hour'] = df['timestamp'].dt.hour\n",
    "\n",
    "print(df.head())\n"
   ]
  },
  {
   "cell_type": "markdown",
   "id": "59424fdb",
   "metadata": {},
   "source": [
    "\n",
    "## 🔍 Checking Stationarity\n",
    "\n",
    "✅ Use **rolling mean plots** to check trends.  \n",
    "✅ Apply **Augmented Dickey-Fuller (ADF) test** to confirm stationarity.  \n"
   ]
  },
  {
   "cell_type": "code",
   "execution_count": null,
   "id": "0449c359",
   "metadata": {},
   "outputs": [],
   "source": [
    "\n",
    "import numpy as np\n",
    "import matplotlib.pyplot as plt\n",
    "from statsmodels.tsa.stattools import adfuller\n",
    "\n",
    "# Create synthetic time series data\n",
    "df['value'] = np.random.randn(len(df)) + df['month']\n",
    "\n",
    "# Rolling mean & standard deviation\n",
    "plt.figure(figsize=(8,4))\n",
    "df['value'].rolling(window=3).mean().plot(label=\"Rolling Mean\")\n",
    "df['value'].rolling(window=3).std().plot(label=\"Rolling Std Dev\")\n",
    "plt.legend()\n",
    "plt.title(\"Rolling Mean & Standard Deviation\")\n",
    "plt.show()\n",
    "\n",
    "# Augmented Dickey-Fuller Test\n",
    "adf_test = adfuller(df['value'])\n",
    "print(f\"ADF Statistic: {adf_test[0]}\")\n",
    "print(f\"p-value: {adf_test[1]}\")\n"
   ]
  },
  {
   "cell_type": "markdown",
   "id": "28cb26c5",
   "metadata": {},
   "source": [
    "\n",
    "## 🔨 Feature Engineering for Time Series\n",
    "\n",
    "✅ Create **lag features** for past values.  \n",
    "✅ Use **rolling window features** for trend detection.  \n",
    "✅ Encode seasonal patterns using **Fourier transforms**.  \n"
   ]
  },
  {
   "cell_type": "code",
   "execution_count": null,
   "id": "149d5e74",
   "metadata": {},
   "outputs": [],
   "source": [
    "\n",
    "# Lag feature creation (shifting data by 1 time step)\n",
    "df['value_lag1'] = df['value'].shift(1)\n",
    "\n",
    "# Rolling window feature (mean of last 3 observations)\n",
    "df['rolling_mean'] = df['value'].rolling(window=3).mean()\n",
    "\n",
    "print(df.head())\n"
   ]
  },
  {
   "cell_type": "markdown",
   "id": "88048f9d",
   "metadata": {},
   "source": [
    "\n",
    "## 📈 Simple Time Series Forecasting\n",
    "\n",
    "✅ Use **Naïve, Moving Average, or ARIMA models**.  \n",
    "✅ Compare **forecasting performance** using error metrics.  \n"
   ]
  },
  {
   "cell_type": "code",
   "execution_count": null,
   "id": "5f36223f",
   "metadata": {},
   "outputs": [],
   "source": [
    "\n",
    "from statsmodels.tsa.arima.model import ARIMA\n",
    "\n",
    "# Fit an ARIMA model (p=1, d=1, q=1)\n",
    "model = ARIMA(df['value'].dropna(), order=(1,1,1))\n",
    "model_fit = model.fit()\n",
    "\n",
    "# Generate forecast\n",
    "forecast = model_fit.forecast(steps=3)\n",
    "print(\"Next 3 Forecasted Values:\", forecast)\n"
   ]
  },
  {
   "cell_type": "markdown",
   "id": "821c9c71",
   "metadata": {},
   "source": [
    "\n",
    "## ✅ Best Practices & Common Pitfalls\n",
    "\n",
    "- **Ensure stationarity**: Many models assume stationary data—apply differencing if needed.  \n",
    "- **Use lag features carefully**: The right lag length depends on the dataset.  \n",
    "- **Watch for seasonality**: Consider Fourier transforms or dummy variables for seasonal trends.  \n",
    "- **Validate forecasting models**: Use train-test splits and compare with baseline models.  \n"
   ]
  }
 ],
 "metadata": {},
 "nbformat": 4,
 "nbformat_minor": 5
}
