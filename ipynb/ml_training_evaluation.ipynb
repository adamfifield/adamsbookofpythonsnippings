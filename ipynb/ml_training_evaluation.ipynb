{
 "cells": [
  {
   "cell_type": "markdown",
   "id": "75e63b03",
   "metadata": {},
   "source": [
    "\n",
    "# 🤖 Training & Evaluating Machine Learning Models\n",
    "\n",
    "This notebook provides **code templates and checklists** for **training, evaluating, and tuning ML models**.\n",
    "\n",
    "### 🔹 What’s Covered:\n",
    "- Splitting data and choosing the right model\n",
    "- Training & evaluating regression and classification models\n",
    "- Using cross-validation for better evaluation\n",
    "- Hyperparameter tuning techniques\n"
   ]
  },
  {
   "cell_type": "code",
   "execution_count": null,
   "id": "83847d47",
   "metadata": {},
   "outputs": [],
   "source": [
    "\n",
    "# Ensure required libraries are installed (Uncomment if necessary)\n",
    "# !pip install pandas numpy sklearn\n"
   ]
  },
  {
   "cell_type": "markdown",
   "id": "f87e4b32",
   "metadata": {},
   "source": [
    "\n",
    "## 📂 Splitting Data for Model Training\n",
    "\n",
    "✅ Always split data into **training and testing sets**.  \n",
    "✅ Consider **stratified sampling** for imbalanced classification problems.  \n",
    "✅ Avoid **data leakage** when preparing datasets.  \n"
   ]
  },
  {
   "cell_type": "code",
   "execution_count": null,
   "id": "07f1d54c",
   "metadata": {},
   "outputs": [],
   "source": [
    "\n",
    "import pandas as pd\n",
    "from sklearn.model_selection import train_test_split\n",
    "\n",
    "# Load dataset (Replace with actual data)\n",
    "df = pd.read_csv(\"your_dataset.csv\")\n",
    "\n",
    "# Define features (X) and target (y)\n",
    "X = df.drop(columns=['target'])\n",
    "y = df['target']\n",
    "\n",
    "# Split dataset into 80% training and 20% testing\n",
    "X_train, X_test, y_train, y_test = train_test_split(X, y, test_size=0.2, random_state=42, stratify=y)\n",
    "\n",
    "print(f\"Training data shape: {X_train.shape}, Testing data shape: {X_test.shape}\")\n"
   ]
  },
  {
   "cell_type": "markdown",
   "id": "a6dae282",
   "metadata": {},
   "source": [
    "\n",
    "## 📈 Training a Regression Model\n",
    "\n",
    "✅ Use **Linear Regression** as a baseline model.  \n",
    "✅ Check **Mean Squared Error (MSE)** and **R² Score** for evaluation.  \n"
   ]
  },
  {
   "cell_type": "code",
   "execution_count": null,
   "id": "6557f333",
   "metadata": {},
   "outputs": [],
   "source": [
    "\n",
    "from sklearn.linear_model import LinearRegression\n",
    "from sklearn.metrics import mean_squared_error, r2_score\n",
    "\n",
    "# Train a linear regression model\n",
    "model = LinearRegression()\n",
    "model.fit(X_train, y_train)\n",
    "\n",
    "# Make predictions\n",
    "y_pred = model.predict(X_test)\n",
    "\n",
    "# Evaluate model\n",
    "mse = mean_squared_error(y_test, y_pred)\n",
    "r2 = r2_score(y_test, y_pred)\n",
    "print(f\"Mean Squared Error: {mse}, R² Score: {r2}\")\n"
   ]
  },
  {
   "cell_type": "markdown",
   "id": "8b633294",
   "metadata": {},
   "source": [
    "\n",
    "## 🔍 Training a Classification Model\n",
    "\n",
    "✅ Try a **Logistic Regression** or **Decision Tree** as a baseline.  \n",
    "✅ Evaluate with **Accuracy, Precision, Recall, and F1-score**.  \n"
   ]
  },
  {
   "cell_type": "code",
   "execution_count": null,
   "id": "e84d402c",
   "metadata": {},
   "outputs": [],
   "source": [
    "\n",
    "from sklearn.linear_model import LogisticRegression\n",
    "from sklearn.metrics import accuracy_score, classification_report\n",
    "\n",
    "# Train a logistic regression model\n",
    "model = LogisticRegression()\n",
    "model.fit(X_train, y_train)\n",
    "\n",
    "# Make predictions\n",
    "y_pred = model.predict(X_test)\n",
    "\n",
    "# Evaluate model\n",
    "accuracy = accuracy_score(y_test, y_pred)\n",
    "print(f\"Accuracy: {accuracy}\")\n",
    "print(classification_report(y_test, y_pred))\n"
   ]
  },
  {
   "cell_type": "markdown",
   "id": "24b9fafa",
   "metadata": {},
   "source": [
    "\n",
    "## 🔄 Using Cross-Validation\n",
    "\n",
    "✅ Use **cross-validation** to assess model performance on different subsets.  \n",
    "✅ Helps prevent **overfitting**.  \n"
   ]
  },
  {
   "cell_type": "code",
   "execution_count": null,
   "id": "dbd9006b",
   "metadata": {},
   "outputs": [],
   "source": [
    "\n",
    "from sklearn.model_selection import cross_val_score\n",
    "\n",
    "# Perform cross-validation\n",
    "scores = cross_val_score(model, X, y, cv=5, scoring=\"accuracy\")\n",
    "print(f\"Cross-Validation Accuracy: {scores.mean():.2f} ± {scores.std():.2f}\")\n"
   ]
  },
  {
   "cell_type": "markdown",
   "id": "f8931095",
   "metadata": {},
   "source": [
    "\n",
    "## ⚙️ Hyperparameter Tuning\n",
    "\n",
    "✅ Use **Grid Search** for exhaustive search over hyperparameters.  \n",
    "✅ Use **Randomized Search** for faster tuning.  \n"
   ]
  },
  {
   "cell_type": "code",
   "execution_count": null,
   "id": "050a1928",
   "metadata": {},
   "outputs": [],
   "source": [
    "\n",
    "from sklearn.model_selection import GridSearchCV\n",
    "\n",
    "# Define hyperparameter grid\n",
    "param_grid = {\n",
    "    \"C\": [0.1, 1, 10],\n",
    "    \"solver\": [\"lbfgs\", \"liblinear\"]\n",
    "}\n",
    "\n",
    "# Perform grid search\n",
    "grid_search = GridSearchCV(LogisticRegression(), param_grid, cv=5, scoring=\"accuracy\")\n",
    "grid_search.fit(X_train, y_train)\n",
    "\n",
    "print(f\"Best Parameters: {grid_search.best_params_}, Best Score: {grid_search.best_score_}\")\n"
   ]
  },
  {
   "cell_type": "markdown",
   "id": "8c059153",
   "metadata": {},
   "source": [
    "\n",
    "## ✅ Best Practices & Common Pitfalls\n",
    "\n",
    "- **Baseline first**: Always start with a simple model.  \n",
    "- **Use cross-validation**: Prevents misleading results from a single test split.  \n",
    "- **Check assumptions**: Ensure data distributions align with model expectations.  \n",
    "- **Avoid overfitting**: Use regularization and hyperparameter tuning.  \n"
   ]
  }
 ],
 "metadata": {},
 "nbformat": 4,
 "nbformat_minor": 5
}
